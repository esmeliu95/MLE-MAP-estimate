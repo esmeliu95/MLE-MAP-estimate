{
 "cells": [
  {
   "cell_type": "code",
   "execution_count": 1,
   "metadata": {},
   "outputs": [],
   "source": [
    "import numpy as np\n",
    "import collections"
   ]
  },
  {
   "cell_type": "code",
   "execution_count": 2,
   "metadata": {},
   "outputs": [],
   "source": [
    "text_file = open(\"training_data.txt\", \"r\")\n",
    "N = text_file.read().split(' ') #N = Total no, of words from training set\n",
    "K = list(set(N)) #K = 10,000 distinct words\n",
    "c = collections.Counter(N)#c is a dictionary of 10,000 distinct words"
   ]
  },
  {
   "cell_type": "code",
   "execution_count": 3,
   "metadata": {},
   "outputs": [],
   "source": [
    "training_sets = []\n",
    "training_sets.append(np.random.permutation(N)[:5000]) #N/128\n",
    "training_sets.append(np.random.permutation(N)[:10000]) #N/64 \n",
    "training_sets.append(np.random.permutation(N)[:40000]) #N/16\n",
    "training_sets.append(np.random.permutation(N)[:160000]) #N/4\n",
    "training_sets.append(N) #N"
   ]
  },
  {
   "cell_type": "code",
   "execution_count": 15,
   "metadata": {},
   "outputs": [
    {
     "name": "stdout",
     "output_type": "stream",
     "text": [
      "pp  453.5965390834194  N size is  5000  counter size is  3687\n",
      "pp  166.39074115199367  N size is  10000  counter size is  5809\n",
      "pp  8.666353286398678  N size is  40000  counter size is  9224\n",
      "pp  1.7985781542703916  N size is  160000  counter size is  9966\n",
      "pp  1.1581863570119737  N size is  640000  counter size is  10000\n"
     ]
    }
   ],
   "source": [
    "#Perplexity\n",
    "for each_train in training_sets:\n",
    "    dictionary = collections.Counter(each_train)\n",
    "    N = len(each_train)\n",
    "    each_train = list(set(each_train))\n",
    "    probability = np.zeros(len(each_train))\n",
    "    probability = [(dictionary[i]/N) for i in each_train]\n",
    "    temp = probability.copy()\n",
    "    temp = np.log(temp)\n",
    "    pp = np.exp((-1/N)*np.sum(temp))\n",
    "    print('pp ',pp,' N size is ', N,' counter size is ',len(dictionary))"
   ]
  },
  {
   "cell_type": "code",
   "execution_count": null,
   "metadata": {},
   "outputs": [],
   "source": []
  }
 ],
 "metadata": {
  "kernelspec": {
   "display_name": "Python 3",
   "language": "python",
   "name": "python3"
  },
  "language_info": {
   "codemirror_mode": {
    "name": "ipython",
    "version": 3
   },
   "file_extension": ".py",
   "mimetype": "text/x-python",
   "name": "python",
   "nbconvert_exporter": "python",
   "pygments_lexer": "ipython3",
   "version": "3.6.5"
  }
 },
 "nbformat": 4,
 "nbformat_minor": 2
}
