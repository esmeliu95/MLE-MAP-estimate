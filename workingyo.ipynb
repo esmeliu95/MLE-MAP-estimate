{
 "cells": [
  {
   "cell_type": "code",
   "execution_count": 30,
   "metadata": {},
   "outputs": [],
   "source": [
    "import numpy as np\n",
    "import collections\n",
    "import seaborn as sns\n",
    "import matplotlib.pyplot as plt\n",
    "import math\n",
    "\n",
    "%matplotlib inline\n",
    "np.set_printoptions(suppress=True, precision=2)\n",
    "plt.style.use('seaborn') # pretty matplotlib plots"
   ]
  },
  {
   "cell_type": "code",
   "execution_count": 2,
   "metadata": {},
   "outputs": [],
   "source": [
    "text_file = open(\"training_data.txt\", \"r\")\n",
    "train_N = text_file.read().split(' ') #N = Total no, of words from training set\n",
    "K = list(set(train_N)) #K = 10,000 distinct words\n",
    "c = collections.Counter(train_N)#c is a dictionary of 10,000 distinct words"
   ]
  },
  {
   "cell_type": "code",
   "execution_count": 3,
   "metadata": {},
   "outputs": [],
   "source": [
    "new_test = open(\"test_data.txt\", \"r\")\n",
    "ttesting = new_test.read().split(' ') #all the words from test set"
   ]
  },
  {
   "cell_type": "code",
   "execution_count": 4,
   "metadata": {},
   "outputs": [],
   "source": [
    "training_sets = []\n",
    "training_sets.append(train_N[:5000]) #N/128\n",
    "training_sets.append(train_N[:10000]) #N/64 \n",
    "training_sets.append(train_N[:40000]) #N/16\n",
    "training_sets.append(train_N[:160000]) #N/4\n",
    "training_sets.append(train_N) #N"
   ]
  },
  {
   "cell_type": "code",
   "execution_count": 85,
   "metadata": {},
   "outputs": [],
   "source": [
    "#training function\n",
    "def training_process(alpha,trainingdataset,token):\n",
    "    modelsML = []\n",
    "    modelsMAP = []\n",
    "    modelsPP = [] #a vector of 5 dictionaries\n",
    "    K = 10000\n",
    "    \n",
    "    for each_set in trainingdataset:\n",
    "        dictionary = collections.Counter(each_set)\n",
    "        N = len(each_set) #5000 10000 ... 640000\n",
    "        \n",
    "        temp_model = collections.Counter()\n",
    "        \n",
    "        ML = collections.Counter()\n",
    "        MAP = collections.Counter()\n",
    "        PP = collections.Counter()\n",
    "        for word in each_set:\n",
    "            ML[word] = dictionary[word]/N\n",
    "            MAP[word] = (dictionary[word]+alpha-1)/(N-K+(alpha*K))\n",
    "            PP[word] = (dictionary[word]+alpha)/(N+(alpha*K))\n",
    "            \n",
    "        \n",
    "        modelsML.append(ML)\n",
    "        modelsMAP.append(MAP)\n",
    "        modelsPP.append(PP)\n",
    "            \n",
    "    return modelsML,modelsMAP,modelsPP"
   ]
  },
  {
   "cell_type": "code",
   "execution_count": 99,
   "metadata": {},
   "outputs": [],
   "source": [
    "def perplexity(model, run_test, token):\n",
    "    \n",
    "    N = len(run_test)\n",
    "    K = 10000\n",
    "    \n",
    "    probability = np.zeros(len(run_test))\n",
    "    for index,word in enumerate(run_test):\n",
    "        probability[index] = model[word]\n",
    "\n",
    "    for i in range(len(probability)):\n",
    "        if probability[i] == 0:\n",
    "            if token == 'ML':\n",
    "                probability[i] = np.log(0.000000001)\n",
    "            elif token == 'MAP':\n",
    "                probability[i] = np.log(1/(N+K))\n",
    "            elif token == 'PP':\n",
    "                probability[i] = np.log(2/(N+(2*K)))\n",
    "\n",
    "        else:\n",
    "            probability[i] = np.log(probability[i])\n",
    "        \n",
    "\n",
    "\n",
    "    pp = np.exp((-1/N)*np.sum(probability))\n",
    "    return pp"
   ]
  },
  {
   "cell_type": "code",
   "execution_count": 100,
   "metadata": {},
   "outputs": [],
   "source": [
    "def plot_data(mlmodels,mapmodel,pmodel,training,testing):\n",
    "    \n",
    "    #2 plots training & testing\n",
    "    training_ml = []\n",
    "    training_map = []\n",
    "    training_p = []\n",
    "    testing_ml = []\n",
    "    testing_map = []\n",
    "    testing_p = []\n",
    "    \n",
    "    for index in range(len(mlmodels)):\n",
    "\n",
    "        temp_ml = perplexity(mlmodels[index],training[index],'ML')\n",
    "        training_ml.append(temp_ml)\n",
    "        \n",
    "        temp_test_ml = perplexity(mlmodels[index],testing,'ML')\n",
    "        testing_ml.append(temp_test_ml)\n",
    "        \n",
    "        temp_map = perplexity(mapmodel[index],training[index],'MAP')\n",
    "        training_map.append(temp_map)\n",
    "            \n",
    "        temp_test_map = perplexity(mapmodel[index],testing,'MAP')\n",
    "        testing_map.append(temp_test_map)\n",
    "        \n",
    "        temp_p = perplexity(pmodel[index],training[index],'PP')\n",
    "        training_p.append(temp_p)\n",
    "        \n",
    "        temp_test_p = perplexity(pmodel[index],testing,'PP')\n",
    "        testing_p.append(temp_test_p)\n",
    "    \n",
    "\n",
    "    training_para = [5000,10000,40000,160000,640000]\n",
    "    plt.plot(training_para,training_ml,'-o',label=\"training_ml\")\n",
    "    plt.plot(training_para,training_map,'-o',label=\"training_map\")\n",
    "    plt.plot(training_para,training_p,'-o',label=\"training_p\")\n",
    "    plt.xlabel('Training set size')\n",
    "    plt.ylabel('Perplexity')\n",
    "    plt.ylim(2000,10000)\n",
    "    plt.legend(loc='upper right')\n",
    "    plt.title(\"Training perplexity\")\n",
    "    plt.show()\n",
    "    \n",
    "    plt.plot(training_para,testing_ml,'-o',label=\"testing_ml\")\n",
    "    plt.plot(training_para,testing_map,'-o',label=\"testing_map\")\n",
    "    plt.plot(training_para,testing_p,'-o',label=\"testing_p\")\n",
    "    plt.xlabel('Training set size')\n",
    "    plt.ylabel('Perplexity')\n",
    "    plt.legend(loc='upper right')\n",
    "    plt.title(\"Testing perplexity\")\n",
    "    plt.show()\n",
    "    \n",
    "    print(testing_ml)\n",
    "    print(testing_map)\n",
    "    print(testing_p)\n"
   ]
  },
  {
   "cell_type": "code",
   "execution_count": 101,
   "metadata": {},
   "outputs": [
    {
     "data": {
      "image/png": "[encoded data removed]",
      "text/plain": [
       "<Figure size 576x396 with 1 Axes>"
      ]
     },
     "metadata": {},
     "output_type": "display_data"
    },
    {
     "data": {
      "image/png": "[encoded data removed]",
      "text/plain": [
       "<Figure size 576x396 with 1 Axes>"
      ]
     },
     "metadata": {},
     "output_type": "display_data"
    },
    {
     "name": "stdout",
     "output_type": "stream",
     "text": [
      "[3364468.6329755015, 262941.87364015356, 13278.746342540628, 8896.479676618837, 8612.445116409]\n",
      "[78551.384840482, 29857.16761475715, 10187.89999407906, 8809.146656412731, 8609.629981597624]\n",
      "[58240.914755969156, 25550.52739887495, 9970.380622742068, 8788.270012701903, 8608.067668723614]\n"
     ]
    }
   ],
   "source": [
    "mlml,mapmap,pppp = training_process(2,training_sets,'')\n",
    "plot_data(mlml,mapmap,pppp,training_sets,ttesting)"
   ]
  },
  {
   "cell_type": "code",
   "execution_count": 52,
   "metadata": {},
   "outputs": [
    {
     "name": "stdout",
     "output_type": "stream",
     "text": [
      "0.0\n",
      "0.0\n",
      "0.0\n",
      "0.0\n",
      "0.0\n",
      "0.0\n",
      "0.0\n",
      "0.0\n",
      "0.0\n",
      "0.0\n"
     ]
    },
    {
     "data": {
      "image/png": "[encoded data removed]",
      "text/plain": [
       "<Figure size 576x396 with 1 Axes>"
      ]
     },
     "metadata": {},
     "output_type": "display_data"
    }
   ],
   "source": [
    "#Task 2\n",
    "#run alpha = 1~10 for training set of size N/128 = 5000\n",
    "task_2 = training_sets[0].copy()\n",
    "dictionary_for_task_2 = collections.Counter(task_2)\n",
    "list_of_dict = list(dictionary_for_task_2.items())\n",
    "log_evidence = []\n",
    "alpha_list = [1,2,3,4,5,6,7,8,9,10]\n",
    "K = 10000\n",
    "N = 5000\n",
    "\n",
    "\n",
    "for a in alpha_list:\n",
    "    \n",
    "    #temp = (math.factorial(a*(K-1)))/(math.factorial(a*(K+N-1)))\n",
    "    temp_1 = np.log(math.factorial(a*K))\n",
    "    temp_2 = np.log(math.factorial((a*K)+N))\n",
    "    temp = temp_1 + temp_2\n",
    "    print(temp)\n",
    "    for i in range(K):\n",
    "        word_counts = list_of_dict[i][1]\n",
    "        right = math.factorial(a + word_counts-1)/math.factorial(a-1)\n",
    "        temp = temp * right\n",
    "        \n",
    "    log_evidence.append(temp)#np.log(temp))\n",
    "\n",
    "plt.plot(log_evidence,'-o',label=\"log_evidence\")\n",
    "plt.xlabel('Alpha value')\n",
    "plt.ylabel('Log_evidence')\n",
    "#plt.ylim(0,120000)\n",
    "plt.legend(loc='upper right')\n",
    "plt.title(\"log_evidence\")\n",
    "plt.show()"
   ]
  },
  {
   "cell_type": "code",
   "execution_count": 50,
   "metadata": {},
   "outputs": [
    {
     "ename": "OverflowError",
     "evalue": "integer division result too large for a float",
     "output_type": "error",
     "traceback": [
      "\u001b[1;31m---------------------------------------------------------------------------\u001b[0m",
      "\u001b[1;31mOverflowError\u001b[0m                             Traceback (most recent call last)",
      "\u001b[1;32m<ipython-input-50-2d846ba6305e>\u001b[0m in \u001b[0;36m<module>\u001b[1;34m()\u001b[0m\n\u001b[0;32m      1\u001b[0m \u001b[1;32mimport\u001b[0m \u001b[0mmath\u001b[0m\u001b[1;33m\u001b[0m\u001b[0m\n\u001b[1;32m----> 2\u001b[1;33m \u001b[0mk\u001b[0m \u001b[1;33m=\u001b[0m \u001b[0mmath\u001b[0m\u001b[1;33m.\u001b[0m\u001b[0mfactorial\u001b[0m\u001b[1;33m(\u001b[0m\u001b[1;36m5000\u001b[0m\u001b[1;33m)\u001b[0m\u001b[1;33m/\u001b[0m\u001b[0mmath\u001b[0m\u001b[1;33m.\u001b[0m\u001b[0mfactorial\u001b[0m\u001b[1;33m(\u001b[0m\u001b[1;36m3000\u001b[0m\u001b[1;33m)\u001b[0m\u001b[1;33m\u001b[0m\u001b[0m\n\u001b[0m\u001b[0;32m      3\u001b[0m \u001b[0mprint\u001b[0m\u001b[1;33m(\u001b[0m\u001b[0mk\u001b[0m\u001b[1;33m)\u001b[0m\u001b[1;33m\u001b[0m\u001b[0m\n",
      "\u001b[1;31mOverflowError\u001b[0m: integer division result too large for a float"
     ]
    }
   ],
   "source": [
    "import math\n",
    "k = math.factorial(5000)/math.factorial(3000)\n",
    "print(k)"
   ]
  },
  {
   "cell_type": "code",
   "execution_count": 48,
   "metadata": {},
   "outputs": [
    {
     "name": "stdout",
     "output_type": "stream",
     "text": [
      "7\n"
     ]
    }
   ],
   "source": [
    "lmao= list(dictionary_for_task_2.items())\n",
    "print(lmao[0][1]*7)\n"
   ]
  },
  {
   "cell_type": "code",
   "execution_count": null,
   "metadata": {},
   "outputs": [],
   "source": []
  }
 ],
 "metadata": {
  "kernelspec": {
   "display_name": "Python 3",
   "language": "python",
   "name": "python3"
  },
  "language_info": {
   "codemirror_mode": {
    "name": "ipython",
    "version": 3
   },
   "file_extension": ".py",
   "mimetype": "text/x-python",
   "name": "python",
   "nbconvert_exporter": "python",
   "pygments_lexer": "ipython3",
   "version": "3.6.5"
  }
 },
 "nbformat": 4,
 "nbformat_minor": 2
}
